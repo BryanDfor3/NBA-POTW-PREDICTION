{
 "cells": [
  {
   "cell_type": "markdown",
   "metadata": {},
   "source": [
    "# Predicting NBA Players of the Week: A Logistic Regression Approach\n",
    "***\n",
    "\n",
    "![NBAUrl](https://i.pinimg.com/originals/9e/d1/3d/9ed13d1846a5f262edaea59c29483c02.gif \"nba\")\n",
    "\n",
    "This exercise takes NBA box score data from Kaggle via kagglehub and attempts to predict the winners of the NBA Player of the Week award for the 2023-24 season using the prior ten seasons of data as historical precedent. In this notebook, I will walk through my logic and processes used to clean the data and perform data transformations which includes conditionally filtering dataframes, applying user-created functions onto dataframes, performing mathematical operations with datetime objects, aggregating, merging, and concatenating dataframes, and finally feeding the data through a logistic regression model.\n",
    "\n",
    "Let's get started!"
   ]
  },
  {
   "cell_type": "markdown",
   "metadata": {},
   "source": [
    "## 1. Background\n",
    "\n",
    "<img src=\"https://cdn.nba.com/manage/2024/10/davis-tatum-potw.jpeg\" alt=\"potw\" style=\"width: 700px;\"/>\n",
    "\n",
    "The NBA Player of the Week is awarded to one player from each conference (East / West) for each week of the NBA regular season (with exceptions for the weeks of the NBA Cup semifinals and NBA All-Star game). Information about the criteria for the award is not publicly available (to my best knowledge), but a few general characteristics of players who have historically been winners of the award are:\n",
    "\n",
    "1) _Outstanding individual performances_ - The player should have strongly positive production on the court and be a major contributor to his team's success\n",
    "2) _Team record_ - The player's team should win the majority of its games during the week\n",
    "3) _Availability_ - The player should not miss significant time during the week relative to the team's number of scheduled games in the week\n",
    "\n",
    "LeBron James is the all-time leader in Player of the Week awards (68 award wins before age 40 as of this notebook's publishing). Basketball Reference maintains a great one-page view of every Player of the Week award winner __[here](https://www.basketball-reference.com/awards/pow.html)__, but I will be using __[this neat table](https://basketball.realgm.com/nba/awards/by-type/Player-Of-The-Week/30)__ as a data export from RealGM as my datasource \n",
    "\n"
   ]
  },
  {
   "cell_type": "markdown",
   "metadata": {},
   "source": [
    "## 2. Loading the Data and Making Initial Observations\n",
    "Start by loading the Python packages that we'll be using:"
   ]
  },
  {
   "cell_type": "code",
   "execution_count": 9,
   "metadata": {},
   "outputs": [],
   "source": [
    "import kagglehub #Used for connecting to the dataset on kaggle\n",
    "import requests #Used for connecting to data on GitHub\n",
    "from io import StringIO #Used for connecting to data on GitHub\n",
    "import pandas as pd #Used for dataframe transformations and manipulations\n",
    "import numpy as np #Used for a few helper functions\n",
    "import statsmodels.api as sm #Used to run our logistic regression, analyze the results, and produce predictions\n",
    "\n",
    "pd.set_option('display.max_columns',20)"
   ]
  },
  {
   "cell_type": "markdown",
   "metadata": {},
   "source": [
    "Next, let's load the data and preview it in our notebook:"
   ]
  },
  {
   "cell_type": "code",
   "execution_count": 10,
   "metadata": {},
   "outputs": [
    {
     "name": "stdout",
     "output_type": "stream",
     "text": [
      "Warning: Looks like you're using an outdated `kagglehub` version, please consider updating (latest version: 0.3.6)\n",
      "Warning: Looks like you're using an outdated `kagglehub` version, please consider updating (latest version: 0.3.6)\n",
      "potw_data:  \n",
      "       Season                 Player Conference       Date               Team  \\\n",
      "0  2024-2025          Jalen Brunson       East 2024-12-02    New York Knicks   \n",
      "1  2024-2025         Alperen Sengun       West 2024-12-02    Houston Rockets   \n",
      "2  2024-2025  Giannis Antetokounmpo       East 2024-11-25    Milwaukee Bucks   \n",
      "3  2024-2025        Harrison Barnes       West 2024-11-25  San Antonio Spurs   \n",
      "4  2024-2025           Franz Wagner       East 2024-11-18      Orlando Magic   \n",
      "\n",
      "  Pos Height  Weight  Age  Draft Yr  YOS  \n",
      "0  PG    6-2     190   28      2018    6  \n",
      "1   C   6-11     243   22      2021    3  \n",
      "2   F   6-11     243   30      2013   11  \n",
      "3  SF    6-8     225   32      2012   12  \n",
      "4  SF   6-10     220   23      2021    3   \n",
      " trad_bs_data:  \n",
      "      gameid       date     type  playerid            player team home away  \\\n",
      "0  29600001 1996-11-01  regular       677     Eric Williams  BOS  BOS  CHI   \n",
      "1  29600001 1996-11-01  regular       442    Pervis Ellison  BOS  BOS  CHI   \n",
      "2  29600001 1996-11-01  regular       783  Frank Brickowski  BOS  BOS  CHI   \n",
      "3  29600001 1996-11-01  regular       344       Dana Barros  BOS  BOS  CHI   \n",
      "4  29600001 1996-11-01  regular       133      David Wesley  BOS  BOS  CHI   \n",
      "\n",
      "   MIN  PTS  ...  DREB  REB  AST  STL  BLK  TOV  PF  +/-  win  season  \n",
      "0   25   14  ...     1    3    1    0    0    1   4    1    0    1997  \n",
      "1   31    7  ...     6   10    0    3    2    3   5   -8    0    1997  \n",
      "2   19    3  ...     1    2    4    2    0    5   5   -7    0    1997  \n",
      "3   38   24  ...     1    1    6    1    0    3   2   -4    0    1997  \n",
      "4   41   19  ...     2    3    6    2    0    1   4  -22    0    1997  \n",
      "\n",
      "[5 rows x 30 columns]\n"
     ]
    }
   ],
   "source": [
    "#Load NBA player of the week data, while simultaneously converting the date column to a date datatype\n",
    "url = 'https://github.com/BryanDfor3/NBA-POTW-PREDICTION/blob/main/NBA%20Players%20of%20the%20Week%20Data.csv?raw=true'\n",
    "response = requests.get(url)\n",
    "response.raise_for_status()\n",
    "potw_data = pd.read_csv(StringIO(response.text), parse_dates = ['Date'], date_format = '%b %d, %Y')\n",
    "\n",
    "#Download the latest version of the traditional and advanced box score data from Kaggle\n",
    "trad_path = kagglehub.dataset_download(\"szymonjwiak/nba-traditional\")\n",
    "adv_path = kagglehub.dataset_download(\"szymonjwiak/nba-advanced-boxscores-1997-2023\")\n",
    "\n",
    "#Load the box score data downloaded from the previous step into variables\n",
    "trad_bs_data = pd.read_csv(trad_path+\"/traditional.csv\", parse_dates = ['date'], date_format = '%Y-%m-%d')\n",
    "adv_bs_data = pd.read_csv(adv_path+\"/advanced.csv\", parse_dates = ['date'], date_format = '%Y-%m-%d')\n",
    "\n",
    "print('potw_data: ', '\\n', potw_data.head(5), '\\n', 'trad_bs_data: ', '\\n', trad_bs_data.head(5))"
   ]
  },
  {
   "cell_type": "markdown",
   "metadata": {},
   "source": [
    "One thing to consider is that the Player of the Week Award may not always be awarded on the same day of the week. We need to check for this to ensure that the way we define our weeks is standardized:"
   ]
  },
  {
   "cell_type": "code",
   "execution_count": 11,
   "metadata": {},
   "outputs": [
    {
     "data": {
      "text/plain": [
       "weekday\n",
       "Sunday      0.501963\n",
       "Monday      0.487565\n",
       "Tuesday     0.009817\n",
       "Saturday    0.000654\n",
       "Name: proportion, dtype: float64"
      ]
     },
     "execution_count": 11,
     "metadata": {},
     "output_type": "execute_result"
    }
   ],
   "source": [
    "#Observe which days of the week the POTW is awarded on to treat data appropriately downstream. Then add weekday to the box score data\n",
    "potw_data['weekday'] = potw_data['Date'].dt.day_name()\n",
    "trad_bs_data['weekday'] = trad_bs_data['date'].dt.day_name()\n",
    "adv_bs_data['weekday'] = adv_bs_data['date'].dt.day_name()\n",
    "\n",
    "#Observe the breakdown of weekdays that Player of the Week is awarded on\n",
    "potw_data['weekday'].value_counts(normalize=True)"
   ]
  },
  {
   "cell_type": "markdown",
   "metadata": {},
   "source": [
    "Let's see if this changes when we filter our data for the last 11 NBA seasons worth of data:"
   ]
  },
  {
   "cell_type": "code",
   "execution_count": 12,
   "metadata": {},
   "outputs": [
    {
     "data": {
      "text/plain": [
       "weekday\n",
       "Monday     0.983264\n",
       "Tuesday    0.016736\n",
       "Name: proportion, dtype: float64"
      ]
     },
     "execution_count": 12,
     "metadata": {},
     "output_type": "execute_result"
    }
   ],
   "source": [
    "#Filter the data to keep the last 11 years of data only\n",
    "potw_data = potw_data[((potw_data['Date'] >= '2014') | (potw_data['Season'] == '2013-2014')) & (potw_data['Season'] != '2024-2025')]\n",
    "trad_bs_data = trad_bs_data[((trad_bs_data['date'] >= '2014') | (trad_bs_data['season'] == 2014)) & (trad_bs_data['type'] == 'regular')]\n",
    "adv_bs_data = adv_bs_data[((adv_bs_data['date'] >= '2014') | (adv_bs_data['season'] == 2014)) & (adv_bs_data['type'] == 'regular')]\n",
    "\n",
    "#Observe the breakdown of weekdays that Player of the Week is awarded on\n",
    "potw_data['weekday'].value_counts(normalize=True)"
   ]
  },
  {
   "cell_type": "markdown",
   "metadata": {},
   "source": [
    "Looks like the NBA has been pretty consistent about announcing the award on Mondays with the exception of a few Tuesday announcements over the last 11 years. Let's make sure to account for this in our next steps.\n",
    "\n",
    "## 3. Using Data Transformations to Define Our Weeks and Defining Our Model\n",
    "\n",
    "Ideally, our date definitions for the award winners should be consistent. I want to establish 'week starting' and 'week ending' columns to avoid any overlap between our dataframes. Since we have some data that represents Mondays and other data representing Tuesdays, let's standardize both cases so that all of our weeks start on Monday and end on Sunday:"
   ]
  },
  {
   "cell_type": "code",
   "execution_count": 13,
   "metadata": {},
   "outputs": [],
   "source": [
    "#Calculate the 'week starting' and 'week ending' using the date and weekday that the POTW was awarded (Monday version)\n",
    "def week_ending(weekday):\n",
    "    '''\n",
    "    This function takes a day of the week and a date field and computes the day that the week started on\n",
    "\n",
    "    INPUTS\n",
    "    date - The date to be transformed\n",
    "    weekday - A value representing the day of the week (e.g. Monday, Tuesday, etc.) represented by the date\n",
    "\n",
    "    OUTPUTS\n",
    "    date_delta - The transformed date\n",
    "    '''\n",
    "\n",
    "    deltas = {'Monday': 1, 'Tuesday': 2, 'Wednesday': 3, 'Thursday': 4, 'Friday': 5, 'Saturday': 6, 'Sunday': 0}\n",
    "    date_delta = pd.Timedelta(days=deltas[weekday])\n",
    "    return date_delta\n",
    "\n",
    "#Calculate the 'week starting' and 'week ending' using the date and weekday that the POTW was awarded (Tuesday version)\n",
    "def week_ending2(weekday):\n",
    "    '''\n",
    "    This function takes a day of the week and a date field and computes the day that the week started on\n",
    "\n",
    "    INPUTS\n",
    "    date - The date to be transformed\n",
    "    weekday - A value representing the day of the week (e.g. Monday, Tuesday, etc.) represented by the date\n",
    "\n",
    "    OUTPUTS\n",
    "    date_delta - The transformed date\n",
    "    '''\n",
    "\n",
    "    deltas = {'Monday': 6, 'Tuesday': 5, 'Wednesday': 4, 'Thursday': 3, 'Friday': 2, 'Saturday': 1, 'Sunday': 0}\n",
    "    date_delta = pd.Timedelta(days=deltas[weekday])\n",
    "    return date_delta\n",
    "\n",
    "#Calculate the week ending date using the custom function defined earlier\n",
    "potw_data['week ending'] = potw_data['Date'] - potw_data['weekday'].apply(week_ending)\n",
    "trad_bs_data['week ending'] = trad_bs_data['date'] + trad_bs_data['weekday'].apply(week_ending2)\n",
    "adv_bs_data['week ending'] = adv_bs_data['date'] + adv_bs_data['weekday'].apply(week_ending2)\n",
    "\n",
    "\n",
    "#Calculate the week starting date a six day time delta on the week ending date calculated in the previous step\n",
    "potw_data['week starting'] = potw_data['week ending'] - pd.Timedelta(days=6)\n",
    "trad_bs_data['week starting'] = trad_bs_data['week ending'] - pd.Timedelta(days=6)\n",
    "adv_bs_data['week starting'] = adv_bs_data['week ending'] - pd.Timedelta(days=6)"
   ]
  },
  {
   "cell_type": "markdown",
   "metadata": {},
   "source": [
    "Since we've standardized our dates and have all of the raw data, now would be a good time to consider the variables we want to incorporate into our model. For the sake of simplicity and to minimize the risk of multicolinearity, we will restrict this analysis to the following set of variables:\n",
    "\n",
    "### Independent Variables\n",
    "* Game Score **`(gscore)`** - Gives a rough measure of a player's productivity for a single game, created by John Hollinger to be a simpler version of PER, which has historically had predicted MVP winners with significant accuracy. A game score of 10 is considered average, while a game score of 40 is considered outstanding. <br>\n",
    "* Win Percentage **`(win%)`** - The win percentage of the player's team in games that he played in during the week. <br>\n",
    "* Participation **`(played%)`** - The percentage of a player's team's games that he played in during the week. <br>\n",
    "* Team Games vs. Max **`(% vs. max)`** - The percentage of games scheduled for a player's team relative to the highest count of games scheduled in a week for a team per conference. For example: If the Lakers, Clippers, Nets and Knicks respectively had 3, 4, 2, and 5 games scheduled in a week, the variable should produce the following results: <br> <br>\n",
    "Western Conference: LAL - 0.75 (3/4), LAC - 1.00 (4/4)  \n",
    "Eastern Conference: BKN - 0.40 (2/5), NYK - 1.00 (5/5)\n",
    "<br>\n",
    "### Dependent Variables\n",
    "* Player of the Week Winner **`(potw_winner)`** - 1 if the player was the NBA Player of the Week, 0 otherwise.\n",
    "\n",
    "Because our dependent variable is binary in nature and because we want to bound our result as a value between 0 and 1, we will perform a logistic regression to inform our predictions.\n",
    "\n",
    "Note that our prediction values falling between 0 and 1 will produce a probability; however, since we will be running the model on entire seasons rather than individual weeks, the players with the highest probability  as predicted by the model in a week per conference will be deemed as the predicted winners by the model. Another way of saying this is that we care about the rank value of the probability in the week, rather than the probability value itself. "
   ]
  },
  {
   "cell_type": "markdown",
   "metadata": {},
   "source": [
    "Our next steps will involve preparing the data in order to perform joins and define our variables in the code as they're described above. Recall that the NBA Player of the Week is awarded to one player for each conference, so we will need multiple levels of granularity between the data that we will be joining."
   ]
  },
  {
   "cell_type": "code",
   "execution_count": 14,
   "metadata": {},
   "outputs": [],
   "source": [
    "#Create a flag indicating whether the player played or not for the box score data\n",
    "trad_bs_data['played'] = [True if x > 0 else False for x in trad_bs_data['MIN']]\n",
    "adv_bs_data['played'] = [True if x > 0 else False for x in adv_bs_data['MIN']]\n",
    "\n",
    "#Define player conference across the box score datasets\n",
    "East = ['IND', 'ORL', 'CHI', 'MIA', 'BKN', 'CLE', 'PHI', 'BOS', 'TOR', 'DET', 'WAS', 'MIL', 'NYK', 'CHA', 'ATL']\n",
    "trad_bs_data['conference'] = ['East' if x in East else 'West' for x in trad_bs_data['team']]\n",
    "adv_bs_data['conference'] = ['East' if x in East else 'West' for x in adv_bs_data['team']]\n",
    "\n",
    "#Create unique ID using 'week ending', 'conference', and 'player'\n",
    "potw_data['id'] = potw_data['week ending'].astype(str) + \":\" + potw_data['Conference'] + \":\" + potw_data['Player']\n",
    "trad_bs_data['id'] = trad_bs_data['week ending'].astype(str) + \":\" +  trad_bs_data['conference'] + \":\" + trad_bs_data['player']\n",
    "adv_bs_data['id'] = adv_bs_data['week ending'].astype(str) + \":\" + adv_bs_data['conference'] + \":\" + adv_bs_data['player']\n",
    "\n",
    "trad_bs_data['team id'] = trad_bs_data['week ending'].astype(str) + \":\" +  trad_bs_data['team']\n",
    "trad_bs_data['conf id'] = trad_bs_data['week ending'].astype(str) + \":\" +  trad_bs_data['conference']\n",
    "\n",
    "#Create a dataframe to determine the number of games played per team downstream\n",
    "team_data = trad_bs_data.loc[:,['team id','team','week ending', 'gameid']]\n",
    "\n",
    "#Create a dataframe to determine the max games played by a team in the week\n",
    "conf_data = trad_bs_data.loc[:,['conf id', 'week ending', 'conference', 'team', 'gameid']]"
   ]
  },
  {
   "cell_type": "markdown",
   "metadata": {},
   "source": [
    "## 4. Aggregating Our Data and Further Data Prep\n",
    "\n",
    "We now need to convert our game-level data (our box scores) into weekly aggregate stats in order to properly compare players to one another to predict the award winners. Additionally, we will need to create groupby objects with number of games played per team and the highest number of games played by a Eastern Conference / Western Conference team per week. From there, we will need to join our dataframes together to have full information for every player each week:\n"
   ]
  },
  {
   "cell_type": "code",
   "execution_count": 15,
   "metadata": {},
   "outputs": [],
   "source": [
    "#Perform a groupby on the box score datasets\n",
    "trad_bs_data = trad_bs_data.groupby(['id', 'week starting', 'week ending', 'team', 'conference', 'team id', 'conf id']).agg({'MIN':'sum', 'PTS':'sum', 'FGM':'sum', 'FGA':'sum','3PM':'sum','3PA':'sum', 'FTM':'sum', 'FTA':'sum','OREB':'sum', 'DREB':'sum','AST':'sum','STL':'sum','BLK':'sum','TOV':'sum','PF':'sum','win':'sum','played':'sum'})\n",
    "adv_bs_data = adv_bs_data.groupby(['id', 'week starting', 'week ending', 'team', 'conference']).agg({'OFFRTG':'mean', 'DEFRTG':'mean', 'NETRTG':'mean', 'AST%':'mean','OREB%':'mean','DREB%':'mean', 'REB%':'mean', 'TS%':'mean','USG%':'mean', 'PIE':'mean'})\n",
    "team_data = team_data.groupby(['team id', 'team', 'week ending']).nunique('gameid')\n",
    "conf_data = conf_data.groupby(['conf id', 'conference', 'week ending', 'team']).agg({'gameid':'nunique'})\n",
    "\n",
    "conf_data.sort_values(by=['week ending', 'conference', 'gameid'], ascending=[True, True, False], inplace=True)\n",
    "conf_data = conf_data.groupby(['conf id', 'conference', 'week ending']).first()\n",
    "\n",
    "#Remove multiindex from the groupbys\n",
    "trad_bs_data = trad_bs_data.reset_index()\n",
    "adv_bs_data = adv_bs_data.reset_index()\n",
    "team_data = team_data.reset_index()\n",
    "conf_data = conf_data.reset_index()\n",
    "\n",
    "#Remove 'team' and 'week ending' from the team data df\n",
    "team_data.drop(['team', 'week ending'], axis=1, inplace=True)\n",
    "conf_data.drop(['conference','week ending'], axis=1, inplace=True)\n",
    "conf_data.rename(columns={'gameid':'max_games'}, inplace=True)\n",
    "\n",
    "#Merge the team df with the traditional box score data\n",
    "trad_bs_data = trad_bs_data.merge(team_data, how='left', right_on='team id', left_on='team id')\n",
    "trad_bs_data = trad_bs_data.merge(conf_data, how='left', right_on='conf id', left_on='conf id')\n",
    "\n",
    "#Rename aggregation to games, and calculate win% and percentage of team's games played by the player\n",
    "trad_bs_data.rename(columns={'gameid':'games'}, inplace=True)\n",
    "trad_bs_data['win%'] = trad_bs_data['win']/trad_bs_data['played']\n",
    "trad_bs_data['played%'] = trad_bs_data['played']/trad_bs_data['games']\n",
    "trad_bs_data['% vs. max'] = trad_bs_data['games']/trad_bs_data['max_games']\n",
    "\n",
    "#Flag Player of the Week winners to serve as the binary dependent variable\n",
    "potw_data['potw_winner'] = 1\n",
    "potw_data_copy = potw_data.copy()\n",
    "potw_data.drop(['week starting', 'week ending', 'Conference', 'Player'], axis=1, inplace=True)\n",
    "\n",
    "#Calculate game score from the box score statistics\n",
    "trad_bs_data['gscore'] = (trad_bs_data['PTS'] + (0.4 * trad_bs_data['FGM']) - (0.7 * trad_bs_data['FGA']) - (0.4*(trad_bs_data['FTA'] - trad_bs_data['FTM'])) + (0.7 * trad_bs_data['OREB']) + (0.3 * trad_bs_data['DREB']) + trad_bs_data['STL'] + (0.7 * trad_bs_data['AST']) + (0.7 * trad_bs_data['BLK']) - (0.4 * (trad_bs_data['PF'])) - trad_bs_data['TOV'])/trad_bs_data['played']\n",
    "\n",
    "#Set indexes to be the id column in all datasets\n",
    "potw_data.set_index('id', inplace=True)\n",
    "trad_bs_data.set_index('id', inplace=True)\n",
    "adv_bs_data.set_index('id', inplace=True)\n",
    "\n",
    "#Join first dataset\n",
    "model_1_data = trad_bs_data.merge(potw_data, how='left', left_index=True, right_index=True)\n",
    "model_1_data['potw_winner'] = model_1_data['potw_winner'].replace(np.NaN,0)\n",
    "model_1_data.drop(['Date', 'Team','Pos','Height','Weight','Age','Draft Yr', 'YOS','weekday','Season'], axis=1, inplace=True)\n",
    "model_1_data = model_1_data[model_1_data['played%'] != 0]\n",
    "model_1_data.sort_values(by='gscore', ascending=False, inplace=True)"
   ]
  },
  {
   "cell_type": "markdown",
   "metadata": {},
   "source": [
    "## 5. Fitting a Logistic Regression Model to our Data"
   ]
  },
  {
   "cell_type": "markdown",
   "metadata": {},
   "source": [
    "Now for the fun part - we will fit a logistic regression (logit) to 10 seasons of data (2014 - 2023 seasons), then apply this model to each player's weekly statistics in the 2024 season to get the model's Player of the Week predictions:"
   ]
  },
  {
   "cell_type": "code",
   "execution_count": 16,
   "metadata": {},
   "outputs": [
    {
     "name": "stdout",
     "output_type": "stream",
     "text": [
      "Optimization terminated successfully.\n",
      "         Current function value: 0.013022\n",
      "         Iterations 14\n",
      "                           Logit Regression Results                           \n",
      "==============================================================================\n",
      "Dep. Variable:            potw_winner   No. Observations:                91984\n",
      "Model:                          Logit   Df Residuals:                    91979\n",
      "Method:                           MLE   Df Model:                            4\n",
      "Date:                Mon, 23 Dec 2024   Pseudo R-squ.:                  0.5665\n",
      "Time:                        10:55:12   Log-Likelihood:                -1197.8\n",
      "converged:                       True   LL-Null:                       -2763.0\n",
      "Covariance Type:            nonrobust   LLR p-value:                     0.000\n",
      "==============================================================================\n",
      "                 coef    std err          z      P>|z|      [0.025      0.975]\n",
      "------------------------------------------------------------------------------\n",
      "const        -29.8947      1.329    -22.497      0.000     -32.499     -27.290\n",
      "gscore         0.3303      0.010     32.866      0.000       0.311       0.350\n",
      "win%           6.0685      0.309     19.643      0.000       5.463       6.674\n",
      "played%       11.1178      1.049     10.599      0.000       9.062      13.174\n",
      "% vs. max      4.4660      0.383     11.673      0.000       3.716       5.216\n",
      "==============================================================================\n",
      "\n",
      "Possibly complete quasi-separation: A fraction 0.64 of observations can be\n",
      "perfectly predicted. This might indicate that there is complete\n",
      "quasi-separation. In this case some parameters will not be identified.\n"
     ]
    }
   ],
   "source": [
    "model_1_X = model_1_data.loc[:,['gscore', 'win%', 'played%', '% vs. max']]\n",
    "\n",
    "#Test the model on the 2023-24 season data\n",
    "model_1_X_test = model_1_X[model_1_data['week starting'] >= '2023-10-22']\n",
    "\n",
    "#Train the model on the pre 2023-24 season data\n",
    "model_1_X_train = model_1_X[model_1_data['week starting'] < '2023-10-22']\n",
    "\n",
    "#Isolate the player of the week column to serve as the dependent variable to be tested and trained\n",
    "model_1_Y = model_1_data.loc[:,'potw_winner']\n",
    "model_1_Y_test = model_1_Y[model_1_data['week starting'] >= '2023-10-22']\n",
    "model_1_Y_train = model_1_Y[model_1_data['week starting'] < '2023-10-22']\n",
    "\n",
    "#Initialize the logistic regression model, fit the model to the data, and generate predictions\n",
    "model_1_X_train = sm.add_constant(model_1_X_train)\n",
    "model = sm.Logit(model_1_Y_train, model_1_X_train)\n",
    "result = model.fit()\n",
    "model_1_X_test = sm.add_constant(model_1_X_test)\n",
    "model_1_pred = result.predict(model_1_X_test)\n",
    "\n",
    "#Print a summary of our regression\n",
    "print(result.summary())"
   ]
  },
  {
   "cell_type": "markdown",
   "metadata": {},
   "source": [
    "I'd like to re-emphasize that our model's 'accuracy' is not based on the R-squared value of the regression, but rather on whether the players with the highest probability from the model were the actual winners. However, the summary table gives us a good idea of which variables are the strongest influencers on the players that the model is choosing as the most likely winners of the award (bearing in mind that an 'average' game score is 10). Here are a few notable takeaways:\n",
    "\n",
    "* Given that **`win%`**, **`played%`**, and **`% vs. max`** are all bounded between 0 and 1, they are the easisest to compare at face-value. The model results imply that **`played%`** is the most influential characteristic, followed by **`win%`**, and lastly **`% vs. max.`** \n",
    "* Our constant in the model is negative, and is of significant magnitude relative to the bounded coefficients. In fact, assuming a player performs to an average standard (gscore = 10), plays in and wins all games during the week (**`win%`**, **`played%`** = 1.00), and is on a team with the most games in the conference during the week (**`% vs. max`** = 1.00), still results in a probability value <0! This is good news, because we would expect a player of the week to have to perform above average in order to win the award, which the model's parameters also are implying. A bit of algebra tells us that under these same conditions, a player would have to average a game score of ~18.3 to exceed a probability of zero. My guesstimation after glancing at __[the season leaders for average game score in 2023-24](https://www.teamrankings.com/nba/player-stat/game-score?season_id=221)__ is that 18.3 sits around borderline All-Star level output.\n",
    "\n",
    "Let's now do a manual calculation of the accuracy from our model to see how well it performed on our test data. "
   ]
  },
  {
   "cell_type": "markdown",
   "metadata": {},
   "source": [
    "## 6. Final Data Cleansing and Calculating Model Accuracy\n",
    "\n",
    "Now that we've produced probability estimates, let's connect each estimate to the respective  player's weekly box score statistics. From there, we should be able to sort and aggregate to identify the player with the highest probabilities from each week of the 2023-24 season according to the model, and be able to compare the predictions with the actual winners:"
   ]
  },
  {
   "cell_type": "code",
   "execution_count": 17,
   "metadata": {},
   "outputs": [
    {
     "name": "stdout",
     "output_type": "stream",
     "text": [
      "  week ending conference  probability              predicted winner  \\\n",
      "0  2023-10-29       East     0.188784  2023-10-29:East:Tyrese Maxey   \n",
      "1  2023-10-29       West     0.916061   2023-10-29:West:Luka Doncic   \n",
      "2  2023-11-05       East     0.259801  2023-11-05:East:Jayson Tatum   \n",
      "3  2023-11-05       West     0.418191  2023-11-05:West:Nikola Jokic   \n",
      "4  2023-11-12       East     0.873254   2023-11-12:East:Joel Embiid   \n",
      "\n",
      "                   actual winner  accurate  \n",
      "0   2023-10-29:East:Tyrese Maxey         1  \n",
      "1   2023-10-29:West:Nikola Jokic         0  \n",
      "2   2023-11-05:East:Jayson Tatum         1  \n",
      "3  2023-11-05:West:Stephen Curry         0  \n",
      "4    2023-11-12:East:Joel Embiid         1   \n",
      " accurate\n",
      "0    0.547619\n",
      "1    0.452381\n",
      "Name: proportion, dtype: float64\n"
     ]
    }
   ],
   "source": [
    "#Convert the predictions to be a dataframe and rename the one column to 'probability'\n",
    "model_1_pred = pd.DataFrame(data=model_1_pred)\n",
    "model_1_pred.columns = ['probability']\n",
    "model_1_pred = model_1_pred.reset_index()\n",
    "predictions_df = model_1_pred.copy()\n",
    "model_1_pred.drop('id', axis=1, inplace=True)\n",
    "\n",
    "#Filter the observational data to only include the 2023-24 season and reset the index\n",
    "model_1_obs = model_1_data[model_1_data['week starting'] >= '2023-10-22']\n",
    "model_1_obs = model_1_obs.reset_index()\n",
    "\n",
    "#Combine the observational data with the predictions from the model, and sort by week, conference, and the model's predicted win 'probability'\n",
    "all_model_1_data = pd.concat([model_1_obs, model_1_pred], axis=1)\n",
    "all_model_1_data.sort_values(by=['week ending', 'conference', 'probability',], ascending=[True, True, False], inplace=True)\n",
    "\n",
    "#Group the data by week and conference, returning the highest probability player as the aggregation using .max() and .first()\n",
    "all_model_1_data_grouped = all_model_1_data.groupby(['week ending', 'conference']).agg({'probability':'max', 'id':'first'})\n",
    "all_model_1_data_grouped = all_model_1_data_grouped.reset_index()\n",
    "\n",
    "#Create a new id in order to combine the data with the actual player of the week winners\n",
    "all_model_1_data_grouped['potw_id'] = all_model_1_data_grouped['week ending'].astype(str)+\":\"+all_model_1_data_grouped['conference']\n",
    "\n",
    "#Create the same id using the actual player of the week winners data, sort by date and conference, and drop out of scope information\n",
    "potw_data_copy['potw_id'] = potw_data_copy['week ending'].astype(str)+\":\"+potw_data_copy['Conference']\n",
    "potw_data_copy.sort_values(by=['Date', 'Conference'], ascending=[True, True], inplace=True)\n",
    "potw_data_copy = potw_data_copy[potw_data_copy['Date']>'2023-10-22']\n",
    "potw_data_copy.drop(['Pos', 'potw_winner', 'week ending', 'Date', 'Conference','week starting', 'Player', 'Season', 'Team','Height', 'Weight', 'Age', 'Draft Yr', 'YOS','weekday'], axis=1, inplace=True) \n",
    "\n",
    "#Rename the id from the aggregation to be 'predicted winner' and change the id in the Player of the Week data to 'actual winner'\n",
    "all_model_1_data_grouped.rename(columns={'id':'predicted winner'}, inplace=True)\n",
    "potw_data_copy.rename(columns={'id':'actual winner'}, inplace=True)\n",
    "\n",
    "#Combine the predictions and actuals into a single dataframe, then drop the join key\n",
    "final_df = all_model_1_data_grouped.merge(potw_data_copy, how='left', left_on='potw_id', right_on='potw_id')\n",
    "final_df.drop(columns='potw_id', axis=1, inplace=True)\n",
    "\n",
    "#Determine the accuracy of the model for each week-conference combination\n",
    "final_df['accurate'] = np.where((final_df['predicted winner'] == final_df['actual winner']), 1, 0)\n",
    "\n",
    "#Remove null values (weeks where there was no player of the week awarded)\n",
    "final_df.dropna(axis=0, inplace=True)\n",
    "\n",
    "#Get the proportion of accurate predictions of the model to determine the model's accuracy\n",
    "accuracy = final_df.value_counts('accurate', normalize=True)\n",
    "\n",
    "print(final_df.head(5), '\\n', accuracy)"
   ]
  },
  {
   "cell_type": "markdown",
   "metadata": {},
   "source": [
    "Looks like our model accurately predicted 45% of the players of the week with a one shot guess - not terrible!"
   ]
  },
  {
   "cell_type": "markdown",
   "metadata": {},
   "source": [
    "## 7. Analyzing the Results (More Data Prep)"
   ]
  },
  {
   "cell_type": "markdown",
   "metadata": {},
   "source": [
    "From here, we can investigate further to see where the biggest difference between the probability of the actual winner and predicted winner was where the model was inaccurate. This might inform additional variables to consider for future analyses to produce a more accurate model:"
   ]
  },
  {
   "cell_type": "code",
   "execution_count": 18,
   "metadata": {},
   "outputs": [
    {
     "name": "stdout",
     "output_type": "stream",
     "text": [
      "   week ending conference                         predicted winner  \\\n",
      "1   2023-10-29       West              2023-10-29:West:Luka Doncic   \n",
      "30  2024-03-03       East    2024-03-03:East:Giannis Antetokounmpo   \n",
      "26  2024-02-04       East         2024-02-04:East:Donovan Mitchell   \n",
      "21  2024-01-14       West  2024-01-14:West:Shai Gilgeous-Alexander   \n",
      "20  2024-01-14       East         2024-01-14:East:Donovan Mitchell   \n",
      "\n",
      "                      actual winner  pred probability  actual probability  \\\n",
      "1      2023-10-29:West:Nikola Jokic          0.916061            0.400377   \n",
      "30     2024-03-03:East:Jaylen Brown          0.600177            0.121023   \n",
      "26       2024-02-04:East:Trae Young          0.761724            0.330546   \n",
      "21  2024-01-14:West:Lauri Markkanen          0.812701            0.417672   \n",
      "20      2024-01-14:East:Bam Adebayo          0.442636            0.051437   \n",
      "\n",
      "    prob diff  pred gscore  actual gscore  pred win%  actual win%  pred win%  \\\n",
      "1    0.515684    36.700000      23.733333        1.0         1.00        1.0   \n",
      "30   0.479154    29.566667      22.333333        1.0         1.00        1.0   \n",
      "26   0.431178    28.475000      26.200000        1.0         1.00        1.0   \n",
      "21   0.395029    29.400000      23.950000        1.0         1.00        1.0   \n",
      "20   0.391200    34.400000      20.725000        1.0         0.75        1.0   \n",
      "\n",
      "    pred played%  actual played%  pred % vs. max  actual % vs. max  accurate  \n",
      "1            1.0             1.0        0.666667              1.00         0  \n",
      "30           1.0             1.0        0.750000              0.75         0  \n",
      "26           1.0             1.0        1.000000              0.75         0  \n",
      "21           1.0             1.0        1.000000              1.00         0  \n",
      "20           1.0             1.0        0.250000              1.00         0  \n"
     ]
    }
   ],
   "source": [
    "#Perform a join to compare probability between actual winner and model's predicted winner\n",
    "predictions_df.rename(columns={'probability':'actual probability'}, inplace=True)\n",
    "final_df = final_df.merge(predictions_df, how='left', left_on='actual winner', right_on='id')\n",
    "final_df.drop('id', axis=1, inplace=True)\n",
    "\n",
    "#Calculate the difference in probability between the actual winner and the predicted winner, and sort in descending order\n",
    "final_df['prob diff'] = final_df['probability'] - final_df['actual probability']\n",
    "final_df.sort_values(by='prob diff', ascending=False, inplace=True)\n",
    "\n",
    "#Now let's compare the variables from our regression across these large differences in probability by performing some data stitching\n",
    "player_data = trad_bs_data.iloc[:,-4:] \n",
    "final_df = final_df.merge(player_data, how='left', left_on='predicted winner', right_index=True)\n",
    "final_df.rename(columns={'gscore': 'pred gscore', 'win%': 'pred win%', 'played%':'pred played%', '% vs. max':'pred % vs. max', 'probability': 'pred probability'}, inplace=True)\n",
    "final_df = final_df.merge(player_data, how='left', left_on='actual winner', right_index=True)\n",
    "final_df.rename(columns={'gscore': 'actual gscore', 'win%': 'actual win%', 'played%':'actual played%', '% vs. max':'actual % vs. max'}, inplace=True)\n",
    "final_df = final_df[['week ending', 'conference', 'predicted winner', 'actual winner', 'pred probability', 'actual probability', 'prob diff', 'pred gscore', 'actual gscore', 'pred win%', 'actual win%', 'pred win%', 'pred played%', 'actual played%', 'pred % vs. max', 'actual % vs. max', 'accurate']]\n",
    "\n",
    "#Show the five biggest values in probability difference and respective player of the week cases between the predicted winner and the actual winner\n",
    "print(final_df.head(5))"
   ]
  },
  {
   "cell_type": "markdown",
   "metadata": {},
   "source": [
    "I've linked Reddit threads on these 5 cases - very interesting to read the discourse and compare the sentiment against our model's predictions. I will also attempt to analyze possible explanations for the model's shortcomings in these cases.\n",
    "\n",
    "__[2023-10-29 Player of the Week: Nikola Jokic (West)](https://www.reddit.com/r/nba/comments/17k1hqj/nba_pr_denver_nuggets_center_nikola_joki%C4%87_and/)__ <br>\n",
    "Luka Doncic had a fantastic set of games in the week, averaging 41 PTS, 11.5 REB, 8.5 AST, and only 2.0 TOV on 71.3 TS%. However, he only played in two games compared to Jokic's three, which I think hurt his case. The model believes Doncic's exceptional performances should offset the difference in 1 game played between he and Jokic, when clearly the voting committee did not share that belief. Several users in the thread also expected Luka to be the winner.\n",
    "\n",
    "__[2024-03-03 Player of the Week: Jaylen Brown (East)](https://www.reddit.com/r/nba/comments/1b6kjn0/nba_pr_los_angeles_lakers_forward_lebron_james/)__ <br>\n",
    "Giannis Antetokounmpo played the same number of games as Jaylen Brown in the week (3GP) and had strong averages of 31.3 PTS, 11.3 REB, 4.0 AST and only 1.0 TOV on  76.0 TS%. However, his opponenents were the Hornets (2x) and the Bulls; the former had the worst Net Rating in the league through that point in the season (according to __[Cleaning The Glass](https://cleaningtheglass.com/stats/league/summary?season=2023&seasontype=regseason&start=09/29/2023&end=03/3/2024)__), while the Bulls were also in the bottom 10. Jaylen Brown's opponents were the 76ers, Mavericks, and Warriors whose net ratings were 11th, 14th, and 15th, respectively. Additionally, Giannis had already won Eastern Conference Player of the Week twice to this point in the season, while this was Jaylen Brown's first and only time winning the award in the 2023-24 season.\n",
    "\n",
    "__[2024-02-04 Player of the Week: Trae Young (East)](https://www.reddit.com/r/nba/comments/1ajqp4u/nba_pr_la_clippers_forward_kawhi_leonard_and/)__ <br>\n",
    "I think this one is splitting hairs, as observed in comparing game scores between Donovan Mitchell and Trae Young. Mitchell had a compelling argument to win, having played more games (4 GP) than Trae (3 GP) while also not losing and averaging 32.3 PTS, 5.5 REB, 8.5 AST, 1.5 STL, 1.0 BLK and 2.5 TOV on 67.2 TS%. However, I think this is actually the opposite of case #1, where the model may be penalizing Trae too much for playing one fewer game. I would venture to guess that Trae Young had the second best odds of winning Eastern Conference Player of the Week in this week, despite the large delta in odds output by the model.\n",
    "\n",
    "__[2024-01-14 Players of the Week: Lauri Markkanen (West) and Bam Adebayo (East)](https://www.reddit.com/r/nba/comments/197j0n7/nba_pr_utah_jazz_forward_lauri_markkanen_and/)__ <br>\n",
    "In the case of Lauri Markkanen and SGA, I believe this may be another example similar to case #2. Shai Gilgeous-Alexander had won the Western Conference Player of the Week just two weeks prior, and was part of a 62 point victory against the Portland Trail Blazers (the 5th largest victory margin in NBA history through 2024), and a win against the Washington Wizards. The Blazers and Wizards were the 4th and 5th worst teams by net rating, respectively according to __[Cleaning The Glass](https://cleaningtheglass.com/stats/league/summary?season=2023&seasontype=regseason&start=09/29/2023&end=01/14/2024)__.\n",
    "\n",
    "The Bam Adebayo vs. Donovan Mitchell argument is a simple one - Donovan Mitchell only played in one game during the week (compared to Bam playing in 4) and is not being penalized enough by the model. Bam Adebayo also impacts games defensively at an elite level, and defensive impact is not measured well by box score statistics alone, which the model is unable to capture."
   ]
  }
 ],
 "metadata": {
  "kernelspec": {
   "display_name": "Python 3",
   "language": "python",
   "name": "python3"
  },
  "language_info": {
   "codemirror_mode": {
    "name": "ipython",
    "version": 3
   },
   "file_extension": ".py",
   "mimetype": "text/x-python",
   "name": "python",
   "nbconvert_exporter": "python",
   "pygments_lexer": "ipython3",
   "version": "3.12.0"
  },
  "orig_nbformat": 4
 },
 "nbformat": 4,
 "nbformat_minor": 2
}
